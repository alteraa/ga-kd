{
 "cells": [
  {
   "cell_type": "markdown",
   "metadata": {},
   "source": [
    "# Test code for genetics algorithm module"
   ]
  },
  {
   "cell_type": "code",
   "execution_count": 1,
   "metadata": {},
   "outputs": [],
   "source": [
    "# first, import necassary modules\n",
    "import src.genetics.utils as ga_util # utility tools \n",
    "from src.genetics.population import Population # main genetics class"
   ]
  },
  {
   "cell_type": "code",
   "execution_count": 2,
   "metadata": {},
   "outputs": [],
   "source": [
    "# define fitness function\n",
    "def fitness_function(list_of_integers) -> float:\n",
    "    # This function simply evaluates the each chromosoöe (as list of integers)\n",
    "    # to see how close the sum of all gene values is to zero.\n",
    "    # highest fitness means good chromosome\n",
    "    return 1/(sum(list_of_integers) + 1e-6) # we add a small value to avoid zero division error"
   ]
  },
  {
   "cell_type": "code",
   "execution_count": 3,
   "metadata": {},
   "outputs": [],
   "source": [
    "# define population and hyperparameters\n",
    "population = Population(\n",
    "    size=100, # number of chromosomes\n",
    "    mutation_rate=0.01, # mutation rate\n",
    "    length=10, # chromosome length (ie. number of genes for each chromosome)\n",
    "    value_range=(-10, 11), # value range for each gene in [a, b) notation\n",
    ")"
   ]
  },
  {
   "cell_type": "code",
   "execution_count": 4,
   "metadata": {},
   "outputs": [
    {
     "name": "stdout",
     "output_type": "stream",
     "text": [
      "Global best's chromosome: [0, -5, 5, -4, 1, -2, 0, -2, 9, -2]\n",
      "Global best's fitness: 1000000.0\n"
     ]
    }
   ],
   "source": [
    "# run genetics process\n",
    "for _ in range(100): # number of max generation\n",
    "    population.eval(fitness_function) # evaluate all chromosomes\n",
    "    population.update() # update the current population\n",
    "\n",
    "# see global best for all iterations\n",
    "print(\"Global best's chromosome:\", population.global_best)\n",
    "print(\"Global best's fitness:\", population.global_best.fitness)"
   ]
  }
 ],
 "metadata": {
  "kernelspec": {
   "display_name": "Python 3",
   "language": "python",
   "name": "python3"
  },
  "language_info": {
   "codemirror_mode": {
    "name": "ipython",
    "version": 3
   },
   "file_extension": ".py",
   "mimetype": "text/x-python",
   "name": "python",
   "nbconvert_exporter": "python",
   "pygments_lexer": "ipython3",
   "version": "3.10.7"
  }
 },
 "nbformat": 4,
 "nbformat_minor": 2
}
