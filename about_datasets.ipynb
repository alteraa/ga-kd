{
 "cells": [
  {
   "cell_type": "markdown",
   "metadata": {},
   "source": [
    "# Dataset Informations"
   ]
  },
  {
   "cell_type": "code",
   "execution_count": null,
   "metadata": {},
   "outputs": [],
   "source": [
    "from utils import (\n",
    "    download_dataset,\n",
    "    read_as_dataframe,\n",
    "    ALLNLI_DATASET_URL,\n",
    "    STS_BENCHMARK_DATASET_URL,\n",
    ")"
   ]
  },
  {
   "cell_type": "code",
   "execution_count": 3,
   "metadata": {},
   "outputs": [],
   "source": [
    "def download_as_dataframe(url: str, download_path: str):\n",
    "    download_dataset(url, download_path)\n",
    "    return read_as_dataframe(download_path)\n",
    "\n",
    "\n",
    "# download training dataset (ALLNLI)\n",
    "training_ds = download_as_dataframe(\n",
    "    ALLNLI_DATASET_URL,\n",
    "    \"datasets/allnli.tsv.gz\",\n",
    ")\n",
    "# download evaluation (ie. benchmark) dataset (STSBENCHMARK)\n",
    "benchmark_ds = download_as_dataframe(\n",
    "    STS_BENCHMARK_DATASET_URL,\n",
    "    \"datasets/stsbenchmark.tsv.gz\",\n",
    ")"
   ]
  },
  {
   "cell_type": "markdown",
   "metadata": {},
   "source": [
    "## Summary for datasets"
   ]
  },
  {
   "cell_type": "code",
   "execution_count": 4,
   "metadata": {},
   "outputs": [
    {
     "name": "stdout",
     "output_type": "stream",
     "text": [
      "Summary for training dataset\n",
      "\tColumns: ['split', 'dataset', 'filename', 'sentence1', 'sentence2', 'label']\n",
      "\tNumber of sentence pairs: 981382\n",
      "\t\ttrain: 942069\n",
      "\t\tdev: 19657\n",
      "\t\ttest: 19656\n",
      "\tLabels: ['entailment', 'contradiction', 'neutral']\n",
      "\t\tentailment: 327954\n",
      "\t\tcontradiction: 327058\n",
      "\t\tneutral: 326370\n",
      "\n",
      "Summary for benchmark dataset\n",
      "\tColumns: ['split', 'genre', 'dataset', 'year', 'sid', 'score', 'sentence1', 'sentence2']\n",
      "\tNumber of sentence pairs: 8628\n",
      "\t\ttrain: 5749\n",
      "\t\tdev: 1500\n",
      "\t\ttest: 1379\n",
      "\tGenres: ['main-news', 'main-captions', 'main-forums', 'main-forum']\n",
      "\t\tmain-news: 4299\n",
      "\t\tmain-captions: 3250\n",
      "\t\tmain-forums: 629\n",
      "\t\tmain-forum: 450\n"
     ]
    }
   ],
   "source": [
    "# for training\n",
    "print(\"Summary for training dataset\")\n",
    "print(\"\\tColumns:\", training_ds.columns.to_list())\n",
    "print(\"\\tNumber of sentence pairs:\", len(training_ds))\n",
    "original_split = training_ds[\"split\"].value_counts().to_dict()\n",
    "for k, v in original_split.items():\n",
    "    print(f\"\\t\\t{k}: {v}\")\n",
    "labels = training_ds[\"label\"].value_counts().to_dict()\n",
    "print(\"\\tLabels:\", list(labels.keys()))\n",
    "for k, v in labels.items():\n",
    "    print(f\"\\t\\t{k}: {v}\")\n",
    "# for benchmark\n",
    "print()\n",
    "print(\"Summary for benchmark dataset\")\n",
    "print(\"\\tColumns:\", benchmark_ds.columns.to_list())\n",
    "print(\"\\tNumber of sentence pairs:\", len(benchmark_ds))\n",
    "original_split = benchmark_ds[\"split\"].value_counts().to_dict()\n",
    "for k, v in original_split.items():\n",
    "    print(f\"\\t\\t{k}: {v}\")\n",
    "labels = benchmark_ds[\"genre\"].value_counts().to_dict()\n",
    "print(\"\\tGenres:\", list(labels.keys()))\n",
    "for k, v in labels.items():\n",
    "    print(f\"\\t\\t{k}: {v}\")\n"
   ]
  }
 ],
 "metadata": {
  "kernelspec": {
   "display_name": "Python 3",
   "language": "python",
   "name": "python3"
  },
  "language_info": {
   "codemirror_mode": {
    "name": "ipython",
    "version": 3
   },
   "file_extension": ".py",
   "mimetype": "text/x-python",
   "name": "python",
   "nbconvert_exporter": "python",
   "pygments_lexer": "ipython3",
   "version": "3.10.7"
  }
 },
 "nbformat": 4,
 "nbformat_minor": 2
}
